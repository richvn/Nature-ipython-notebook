{
 "metadata": {
  "kernelspec": {
   "codemirror_mode": {
    "name": "ipython",
    "version": 3
   },
   "display_name": "IPython (Python 3)",
   "language": "python",
   "name": "python3",
   "pygments_lexer": "ipython3"
  },
  "name": "",
  "signature": "sha256:d8286d433e013f09a6cfa478ff47aa8e7bf8427cb6338a9c2a731b44fa4a032d"
 },
 "nbformat": 3,
 "nbformat_minor": 0,
 "worksheets": [
  {
   "cells": [
    {
     "cell_type": "markdown",
     "metadata": {},
     "source": [
      "![Nature logo](images/nature-logo.png)\n",
      "\n",
      "![Rackspace graphic](images/Rackspace_Logo.png)\n",
      "\n",
      "Welcome! You have just launched a live example of an IPython Notebook, an interactive computational environment that lets you combine raw code, text, mathematics, plots and rich media into one document. You can edit anything in this temporary demonstration notebook - including the text you are reading. (A real notebook could be saved and shared with colleagues). It will showcase some of the IPython notebook's capabilities for researchers. You can find more examples at this gallery of [interesting IPython Notebooks](https://github.com/ipython/ipython/wiki/A-gallery-of-interesting-IPython-Notebooks)."
     ]
    },
    {
     "cell_type": "markdown",
     "metadata": {},
     "source": [
      "The box below (known as a 'cell') contains code to plot the graph of $y=x^2$.\n",
      "[The blue comments marked by `#` explain what the code does].\n",
      "Double-click on the cell to enter it. Now press SHIFT+ENTER, \n",
      "or press the play key (<button class='fa fa-play icon-play btn btn-xs btn-default'></button>)\n",
      "in the top menubar, to run its code. A full tutorial for using the notebook interface is available [here](http://nbviewer.ipython.org/github/ipython/ipython/blob/2.x/examples/Notebook/Index.ipynb)."
     ]
    },
    {
     "cell_type": "code",
     "collapsed": false,
     "input": [
      "# imports a 2D/3D graphics plotting library called matplotlib \n",
      "# which can generate scientific figures, and instructs the notebook\n",
      "# to display those figures 'inline' (embedded within this page).\n",
      "import matplotlib.pyplot as plt \n",
      "%matplotlib inline\n",
      "\n",
      "# creates an array of 30 values for x equally spaced from 0 to 5. \n",
      "import numpy as np\n",
      "from numpy import *\n",
      "\n",
      "x = np.linspace(0, 5, 30) \n",
      "y = x **2 \n",
      "\n",
      "plt.plot(x, y, 'r')\n",
      "plt.title('A simple graph');"
     ],
     "language": "python",
     "metadata": {},
     "outputs": [
      {
       "metadata": {},
       "output_type": "display_data",
       "png": "[encoded data removed]",
       "text": [
        "<matplotlib.figure.Figure at 0x107dbf850>"
       ]
      }
     ],
     "prompt_number": 1
    },
    {
     "cell_type": "markdown",
     "metadata": {},
     "source": [
      "Above, you should see a chart of $y=x^2$.\n",
      "\n",
      "You can tweak this code, and re-execute it within the notebook. For example, replace \"`y = x ** 2`\" with \"`y = sin(x)`\". (For a list of valid commands, see the [numpy reference manual](http://docs.scipy.org/doc/numpy/reference/routines.math.html)). Be sure to update the descriptive text that support rich math using $\\LaTeX$ notation."
     ]
    },
    {
     "cell_type": "markdown",
     "metadata": {},
     "source": [
      "IPython notebooks can run interactive plots. Aron Ahmadia (ERDC-CHL) and David Ketcheson (KAUST) created the following example to illustrate the perils of aliasing: when a rapidly-changing periodic signal is sampled too infrequently, creating a faulty impression. \n",
      "\n",
      "Ketcheson explains:\n",
      "\n",
      "> As an undergraduate, I did some observational astronomy looking at variable stars.\n",
      "> These are stars whose brightness oscillates, usually on a fairly regular basis. \n",
      "> Many published results claim to measure how quickly the star's brightness oscillates - \n",
      "> but actually report the oscillations at some multiple of the real answer, due to\n",
      "> insufficient observation and (as a result) aliasing\n",
      "\n",
      "This notebook shows how trying to reconstruct a simple sine wave signal from discrete measurements can fail. The sliders allow you to adjust the frequency of the underlying periodic sine wave signal (represented by the wavenumber, $p$), and also how often the signal is sampled (represented by the number of discrete grid points, $m$, at which the amplitude of the underlying signal is measured). Get it wrong, and a high-frequency sine wave is measured as a lower-frequency signal."
     ]
    },
    {
     "cell_type": "code",
     "collapsed": false,
     "input": [
      "%matplotlib inline\n",
      "import numpy as np\n",
      "import matplotlib.pyplot as plt\n",
      "\n",
      "from IPython.display import display, HTML\n",
      "from IPython.html import widgets\n",
      "from IPython.html.widgets import interact, interactive\n",
      "\n",
      "def plot_sine(wavenumber=4.0,grid_points=12,plot_sine='On'):\n",
      "    \"Plot sin(2*pi*p), sampled at m equispaced points.\"\n",
      "    x  = np.linspace(0,1,grid_points+2); # grid\n",
      "    xf = np.linspace(0,1,1000) # fine grid\n",
      "    y  = np.sin(wavenumber*np.pi*x)\n",
      "    yf = np.sin(wavenumber*np.pi*xf)\n",
      "    fig = plt.figure(figsize = (8, 6));\n",
      "    ax = fig.add_subplot(1,1,1);\n",
      "    if plot_sine == 'On':\n",
      "        ax.plot(xf, yf, 'r-', linewidth=2);\n",
      "    ax.plot(x,  y,  'o-', lw=2)\n",
      "\n",
      "interact(plot_sine, wavenumber=(1.0,44.0), grid_points=(10, 16, 1), plot_sine=(('On','Off')));"
     ],
     "language": "python",
     "metadata": {},
     "outputs": []
    },
    {
     "cell_type": "markdown",
     "metadata": {},
     "source": [
      "Run previous cell, then set the `gridpoint` with above slider to `13` and the `wavenumber` w to be : $22 \\leq w \\leq 24 $ , see how the measured signal has a lower frequency than the real one. "
     ]
    },
    {
     "cell_type": "markdown",
     "metadata": {},
     "source": [
      "Since it runs any code, an IPython notebook can be used to import libraries that permit commands for more complicated algorithms (including anything that runs in the computer languages R, Python, Julia, and others). <i>[Scikit-image](http://scikit-image.org/)</i>, for example, is a collection of algorithms that can be used for image processing. "
     ]
    },
    {
     "cell_type": "code",
     "collapsed": false,
     "input": [
      "%matplotlib inline\n",
      "from IPython.html.widgets import interact, interactive, fixed\n",
      "from IPython.display import display\n",
      "import matplotlib.pyplot as plt\n",
      "import skimage\n",
      "from skimage import data, filter, io\n",
      "i = data.coffee()\n",
      "io.Image(i)\n",
      "lims = (0.0,1.0,0.01)\n",
      "\n",
      "@interact\n",
      "def edit_image(image: fixed(i), \u03c3:(0.0,30.0,0.1)=0.1, r:lims=1.0, g:lims=1.0, b:lims=1.0):\n",
      "    new_image = filter.gaussian_filter(image, sigma=\u03c3, multichannel=True)\n",
      "    new_image[:,:,0] = r*new_image[:,:,0]\n",
      "    new_image[:,:,1] = g*new_image[:,:,1]\n",
      "    new_image[:,:,2] = b*new_image[:,:,2]\n",
      "    new_image = io.Image(new_image)\n",
      "    plt.imshow(new_image)\n",
      "    return new_image"
     ],
     "language": "python",
     "metadata": {},
     "outputs": []
    },
    {
     "cell_type": "markdown",
     "metadata": {},
     "source": [
      "# MRInteract\n",
      "\n",
      "This is an adapted toy MR image viewer done by [Scott Burns](https://github.com/sburns/mrinteract/).\n",
      "\n",
      "MR images are simply 3- (or 4) dimensional arrays. In practice we deal with additional data (the transform) that maps voxel indexes to real-word space but this is not demonstrated here.\n",
      "\n",
      "You can have a look at `brain_viewer.py` to see how to build this interactive MRI viewer in 25 lines."
     ]
    },
    {
     "cell_type": "code",
     "collapsed": false,
     "input": [
      "import matplotlib\n",
      "from brain_viewer import viewer\n",
      "\n",
      "matplotlib.rc('figure', figsize=(8,6))\n",
      "%matplotlib inline\n",
      "\n",
      "brain = 'MPRAGE.nii.gz' # this is a T1 image of my brain\n",
      "viewer(brain)"
     ],
     "language": "python",
     "metadata": {},
     "outputs": []
    },
    {
     "cell_type": "code",
     "collapsed": true,
     "input": [],
     "language": "python",
     "metadata": {},
     "outputs": []
    }
   ],
   "metadata": {}
  }
 ]
}